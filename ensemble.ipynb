{
 "cells": [
  {
   "cell_type": "code",
   "execution_count": 1,
   "metadata": {},
   "outputs": [],
   "source": [
    "import pandas as pd\n",
    "from sklearn.metrics import accuracy_score, precision_score, recall_score, f1_score"
   ]
  },
  {
   "cell_type": "code",
   "execution_count": 2,
   "metadata": {},
   "outputs": [
    {
     "data": {
      "text/plain": [
       "Index(['label', 'Length Of URL', 'Length of Hostname', 'Length of Subdomains',\n",
       "       'Length Of Path', 'Length Of Query Parameters',\n",
       "       'Length Of First Directory', 'Length Of Top Level Domain',\n",
       "       'Count Of \"-\"', 'Count Of \"@\"', 'Count Of \"?\"', 'Count Of \"%\"',\n",
       "       'Count Of \".\"', 'Count Of \"//\"', 'Count Of \"+\"', 'Count Of \"=\"',\n",
       "       'Count Of \"&\"', 'Count Of \"http\"', 'Count Of \"www\"', 'Count Of Digits',\n",
       "       'Count Of Letters', 'Count Of Number Of Directories',\n",
       "       'Use of encoded characters in query parameters',\n",
       "       'Use of special characters in hostname',\n",
       "       'Use of encdoed characters in path',\n",
       "       'Use of special characters in path',\n",
       "       'Use of known-directory name for malicious content',\n",
       "       'Use of multiple redirectes', 'Use of non-standard top-level domains',\n",
       "       'Use of https protocol',\n",
       "       'Use ofknown-query string structure for malicious content',\n",
       "       'Use of special characters in hostname.1', 'Use of IP address or not',\n",
       "       'Use of Shortening URL or not', 'Presence of query parameters',\n",
       "       'Presence of subdomains', 'Presence of long URL',\n",
       "       'Presence of long path', 'Presence of long query string'],\n",
       "      dtype='object')"
      ]
     },
     "execution_count": 2,
     "metadata": {},
     "output_type": "execute_result"
    }
   ],
   "source": [
    "# Load the data from the CSV file\n",
    "data = pd.read_csv('featured_url.csv')\n",
    "data.columns"
   ]
  },
  {
   "cell_type": "code",
   "execution_count": 3,
   "metadata": {},
   "outputs": [
    {
     "name": "stderr",
     "output_type": "stream",
     "text": [
      "c:\\ProgramData\\Anaconda3\\lib\\site-packages\\seaborn\\distributions.py:2619: FutureWarning: `distplot` is a deprecated function and will be removed in a future version. Please adapt your code to use either `displot` (a figure-level function with similar flexibility) or `histplot` (an axes-level function for histograms).\n",
      "  warnings.warn(msg, FutureWarning)\n",
      "c:\\ProgramData\\Anaconda3\\lib\\site-packages\\seaborn\\distributions.py:2103: FutureWarning: The `axis` variable is no longer used and will be removed. Instead, assign variables directly to `x` or `y`.\n",
      "  warnings.warn(msg, FutureWarning)\n"
     ]
    },
    {
     "data": {
      "text/plain": [
       "<AxesSubplot:xlabel='Length of Subdomains', ylabel='Density'>"
      ]
     },
     "execution_count": 3,
     "metadata": {},
     "output_type": "execute_result"
    },
    {
     "data": {
      "image/png": "[encoded data removed]",
      "text/plain": [
       "<Figure size 640x480 with 1 Axes>"
      ]
     },
     "metadata": {},
     "output_type": "display_data"
    }
   ],
   "source": [
    "import seaborn as sns\n",
    "sns.distplot(data['Length of Subdomains'], rug=True)"
   ]
  },
  {
   "cell_type": "code",
   "execution_count": 4,
   "metadata": {},
   "outputs": [],
   "source": [
    "# Separate the features and labels\n",
    "X = data.iloc[:, 1:]  # Features\n",
    "y = data.iloc[:, 0]   # Labels"
   ]
  },
  {
   "cell_type": "code",
   "execution_count": 5,
   "metadata": {},
   "outputs": [],
   "source": [
    "# Split the data into training and testing sets\n",
    "from sklearn.model_selection import train_test_split\n",
    "X_train, X_test, y_train, y_test = train_test_split(X, y, test_size=0.2, random_state=42)"
   ]
  },
  {
   "cell_type": "code",
   "execution_count": 6,
   "metadata": {},
   "outputs": [],
   "source": [
    "# Scale the data using RobustScaler\n",
    "from sklearn.preprocessing import RobustScaler\n",
    "scaler = RobustScaler()\n",
    "X_train = scaler.fit_transform(X_train)\n",
    "X_test = scaler.transform(X_test)"
   ]
  },
  {
   "cell_type": "code",
   "execution_count": 7,
   "metadata": {},
   "outputs": [
    {
     "data": {
      "text/plain": [
       "DecisionTreeClassifier()"
      ]
     },
     "execution_count": 7,
     "metadata": {},
     "output_type": "execute_result"
    }
   ],
   "source": [
    "# Fit the CART model\n",
    "from sklearn.tree import DecisionTreeClassifier\n",
    "cart = DecisionTreeClassifier()\n",
    "cart.fit(X_train, y_train)"
   ]
  },
  {
   "cell_type": "code",
   "execution_count": 8,
   "metadata": {},
   "outputs": [
    {
     "data": {
      "text/plain": [
       "LogisticRegression(max_iter=1000000)"
      ]
     },
     "execution_count": 8,
     "metadata": {},
     "output_type": "execute_result"
    }
   ],
   "source": [
    "# Fit the LR model\n",
    "from sklearn.linear_model import LogisticRegression\n",
    "lr = LogisticRegression(max_iter=1000000)\n",
    "lr.fit(X_train, y_train)"
   ]
  },
  {
   "cell_type": "code",
   "execution_count": 9,
   "metadata": {},
   "outputs": [
    {
     "data": {
      "text/plain": [
       "BernoulliNB()"
      ]
     },
     "execution_count": 9,
     "metadata": {},
     "output_type": "execute_result"
    }
   ],
   "source": [
    "# Fit the NB-B model\n",
    "from sklearn.naive_bayes import BernoulliNB\n",
    "nb = BernoulliNB()\n",
    "nb.fit(X_train, y_train)"
   ]
  },
  {
   "cell_type": "code",
   "execution_count": 10,
   "metadata": {},
   "outputs": [
    {
     "data": {
      "text/plain": [
       "RandomForestClassifier()"
      ]
     },
     "execution_count": 10,
     "metadata": {},
     "output_type": "execute_result"
    }
   ],
   "source": [
    "# Fit the RF model\n",
    "from sklearn.ensemble import RandomForestClassifier\n",
    "rf = RandomForestClassifier()\n",
    "rf.fit(X_train, y_train)"
   ]
  },
  {
   "cell_type": "code",
   "execution_count": 11,
   "metadata": {},
   "outputs": [
    {
     "data": {
      "text/plain": [
       "KNeighborsClassifier()"
      ]
     },
     "execution_count": 11,
     "metadata": {},
     "output_type": "execute_result"
    }
   ],
   "source": [
    "# Fit the KNN model\n",
    "from sklearn.neighbors import KNeighborsClassifier\n",
    "knn = KNeighborsClassifier()\n",
    "knn.fit(X_train, y_train)"
   ]
  },
  {
   "cell_type": "code",
   "execution_count": 12,
   "metadata": {},
   "outputs": [
    {
     "data": {
      "text/plain": [
       "AdaBoostClassifier()"
      ]
     },
     "execution_count": 12,
     "metadata": {},
     "output_type": "execute_result"
    }
   ],
   "source": [
    "# Fit the AdaBoost model\n",
    "from sklearn.ensemble import AdaBoostClassifier\n",
    "ada = AdaBoostClassifier()\n",
    "ada.fit(X_train, y_train)"
   ]
  },
  {
   "cell_type": "code",
   "execution_count": 13,
   "metadata": {},
   "outputs": [
    {
     "data": {
      "text/plain": [
       "ExtraTreesClassifier()"
      ]
     },
     "execution_count": 13,
     "metadata": {},
     "output_type": "execute_result"
    }
   ],
   "source": [
    "# Fit the AdaBoost model\n",
    "from sklearn.ensemble import ExtraTreesClassifier\n",
    "extree = ExtraTreesClassifier()\n",
    "extree.fit(X_train, y_train)"
   ]
  },
  {
   "cell_type": "code",
   "execution_count": 14,
   "metadata": {},
   "outputs": [
    {
     "name": "stderr",
     "output_type": "stream",
     "text": [
      "c:\\ProgramData\\Anaconda3\\lib\\site-packages\\sklearn\\neighbors\\_classification.py:228: FutureWarning: Unlike other reduction functions (e.g. `skew`, `kurtosis`), the default behavior of `mode` typically preserves the axis it acts along. In SciPy 1.11.0, this behavior will change: the default value of `keepdims` will become False, the `axis` over which the statistic is taken will be eliminated, and the value None will no longer be accepted. Set `keepdims` to True or False to avoid this warning.\n",
      "  mode, _ = stats.mode(_y[neigh_ind, k], axis=1)\n"
     ]
    }
   ],
   "source": [
    "# Make predictions on the test data\n",
    "predictions_cart = cart.predict(X_test)\n",
    "predictions_lr = lr.predict(X_test)\n",
    "predictions_nb = nb.predict(X_test)\n",
    "predictions_rf = rf.predict(X_test)\n",
    "predictions_knn = knn.predict(X_test)"
   ]
  },
  {
   "cell_type": "code",
   "execution_count": 15,
   "metadata": {},
   "outputs": [],
   "source": [
    "# Calculate the accuracy, precision, and recall of the CART model\n",
    "accuracy_cart = accuracy_score(y_test, predictions_cart)\n",
    "precision_cart = precision_score(y_test, predictions_cart, average='macro', zero_division=0)\n",
    "recall_cart = recall_score(y_test, predictions_cart, average='macro', zero_division=0)\n",
    "f1_cart = f1_score(y_test, predictions_cart, average='macro')"
   ]
  },
  {
   "cell_type": "code",
   "execution_count": 16,
   "metadata": {},
   "outputs": [],
   "source": [
    "# Calculate the accuracy, precision, and recall of the LR model\n",
    "accuracy_lr = accuracy_score(y_test, predictions_lr)\n",
    "precision_lr = precision_score(y_test, predictions_lr, average='macro', zero_division=0)\n",
    "recall_lr = recall_score(y_test, predictions_lr, average='macro', zero_division=0)\n",
    "f1_lr = f1_score(y_test, predictions_lr, average='macro')"
   ]
  },
  {
   "cell_type": "code",
   "execution_count": 17,
   "metadata": {},
   "outputs": [],
   "source": [
    "# Calculate the accuracy, precision, and recall of the NB-B model\n",
    "accuracy_nb = accuracy_score(y_test, predictions_nb)\n",
    "precision_nb = precision_score(y_test, predictions_nb, average='macro', zero_division=0)\n",
    "recall_nb = recall_score(y_test, predictions_nb, average='macro', zero_division=0)\n",
    "f1_nb = f1_score(y_test, predictions_nb, average='macro')"
   ]
  },
  {
   "cell_type": "code",
   "execution_count": 18,
   "metadata": {},
   "outputs": [],
   "source": [
    "# Calculate the accuracy, precision, and recall of the RF model\n",
    "accuracy_rf = accuracy_score(y_test, predictions_rf)\n",
    "precision_rf = precision_score(y_test, predictions_rf, average='macro', zero_division=0)\n",
    "recall_rf = recall_score(y_test, predictions_rf, average='macro', zero_division=0)\n",
    "f1_rf = f1_score(y_test, predictions_rf, average='macro')"
   ]
  },
  {
   "cell_type": "code",
   "execution_count": 19,
   "metadata": {},
   "outputs": [],
   "source": [
    "# Calculate the accuracy, precision, and recall of the KNN model\n",
    "accuracy_knn = accuracy_score(y_test, predictions_knn)\n",
    "precision_knn = precision_score(y_test, predictions_knn, average='macro', zero_division=0)\n",
    "recall_knn = recall_score(y_test, predictions_knn, average='macro', zero_division=0)\n",
    "f1_knn = f1_score(y_test, predictions_knn, average='macro')"
   ]
  },
  {
   "cell_type": "code",
   "execution_count": 20,
   "metadata": {},
   "outputs": [],
   "source": [
    "predictions_ada = ada.predict(X_test)\n",
    "# Calculate the accuracy, precision, and recall of the AdaBoost model\n",
    "accuracy_ada = accuracy_score(y_test, predictions_ada)\n",
    "precision_ada = precision_score(y_test, predictions_ada, average='macro', zero_division=0)\n",
    "recall_ada = recall_score(y_test, predictions_ada, average='macro', zero_division=0)\n",
    "f1_ada = f1_score(y_test, predictions_ada, average='macro')"
   ]
  },
  {
   "cell_type": "code",
   "execution_count": 21,
   "metadata": {},
   "outputs": [],
   "source": [
    "predictions_extree = extree.predict(X_test)\n",
    "# Calculate the accuracy, precision, and recall of the ExtraTree model\n",
    "accuracy_extree = accuracy_score(y_test, predictions_extree)\n",
    "precision_extree = precision_score(y_test, predictions_extree, average='macro', zero_division=0)\n",
    "recall_extree = recall_score(y_test, predictions_extree, average='macro', zero_division=0)\n",
    "f1_extree = f1_score(y_test, predictions_extree, average='macro')"
   ]
  },
  {
   "cell_type": "code",
   "execution_count": 22,
   "metadata": {},
   "outputs": [
    {
     "name": "stdout",
     "output_type": "stream",
     "text": [
      "CART: Accuracy = 1.00, Precision = 0.66, Recall = 0.66, F1 = 0.66\n",
      "LR: Accuracy = 1.00, Precision = 0.66, Recall = 0.66, F1 = 0.66\n",
      "NB-B: Accuracy = 0.69, Precision = 0.35, Recall = 0.34, F1 = 0.34\n",
      "RF: Accuracy = 1.00, Precision = 1.00, Recall = 1.00, F1 = 1.00\n",
      "KNN: Accuracy = 0.99, Precision = 0.99, Recall = 0.99, F1 = 0.99\n",
      "AdaBoost: Accuracy = 0.99, Precision = 0.66, Recall = 0.66, F1 = 0.66\n",
      "ExtraTree: Accuracy = 1.00, Precision = 1.00, Recall = 1.00, F1 = 1.00\n"
     ]
    }
   ],
   "source": [
    "# Print the results\n",
    "print(f'CART: Accuracy = {accuracy_cart:.2f}, Precision = {precision_cart:.2f}, Recall = {recall_cart:.2f}, F1 = {f1_cart:.2f}')\n",
    "print(f'LR: Accuracy = {accuracy_lr:.2f}, Precision = {precision_lr:.2f}, Recall = {recall_lr:.2f}, F1 = {f1_lr:.2f}')\n",
    "print(f'NB-B: Accuracy = {accuracy_nb:.2f}, Precision = {precision_nb:.2f}, Recall = {recall_nb:.2f}, F1 = {f1_nb:.2f}')\n",
    "print(f'RF: Accuracy = {accuracy_rf:.2f}, Precision = {precision_rf:.2f}, Recall = {recall_rf:.2f}, F1 = {f1_rf:.2f}')\n",
    "print(f'KNN: Accuracy = {accuracy_knn:.2f}, Precision = {precision_knn:.2f}, Recall = {recall_knn:.2f}, F1 = {f1_knn:.2f}')\n",
    "\n",
    "print(f'AdaBoost: Accuracy = {accuracy_ada:.2f}, Precision = {precision_ada:.2f}, Recall = {recall_ada:.2f}, F1 = {f1_ada:.2f}')\n",
    "print(f'ExtraTree: Accuracy = {accuracy_extree:.2f}, Precision = {precision_extree:.2f}, Recall = {recall_extree:.2f}, F1 = {f1_extree:.2f}')\n"
   ]
  },
  {
   "cell_type": "code",
   "execution_count": 23,
   "metadata": {},
   "outputs": [
    {
     "name": "stderr",
     "output_type": "stream",
     "text": [
      "c:\\ProgramData\\Anaconda3\\lib\\site-packages\\sklearn\\neighbors\\_classification.py:228: FutureWarning: Unlike other reduction functions (e.g. `skew`, `kurtosis`), the default behavior of `mode` typically preserves the axis it acts along. In SciPy 1.11.0, this behavior will change: the default value of `keepdims` will become False, the `axis` over which the statistic is taken will be eliminated, and the value None will no longer be accepted. Set `keepdims` to True or False to avoid this warning.\n",
      "  mode, _ = stats.mode(_y[neigh_ind, k], axis=1)\n"
     ]
    }
   ],
   "source": [
    "from sklearn.ensemble import VotingClassifier\n",
    "ensemble_1 = VotingClassifier([('CART', cart), ('RF', rf), ('KNN', knn)])\n",
    "\n",
    "ensemble_1.fit(X_train, y_train)\n",
    "predictions_1 = ensemble_1.predict(X_test)\n",
    "\n",
    "accuracy_1 = accuracy_score(y_test, predictions_1)\n",
    "precision_1 = precision_score(y_test, predictions_1, average='macro', zero_division=0)\n",
    "recall_1 = recall_score(y_test, predictions_1, average='macro', zero_division=0)\n",
    "f1_1 = f1_score(y_test, predictions_1, average='macro', zero_division=0)"
   ]
  },
  {
   "cell_type": "code",
   "execution_count": 24,
   "metadata": {},
   "outputs": [
    {
     "name": "stdout",
     "output_type": "stream",
     "text": [
      "Ensemble 1: Accuracy = 1.00, Precision = 1.00, Recall = 1.00, F1 = 1.00\n"
     ]
    }
   ],
   "source": [
    "print(f'Ensemble 1: Accuracy = {accuracy_1:.2f}, Precision = {precision_1:.2f}, Recall = {recall_1:.2f}, F1 = {f1_1:.2f}')"
   ]
  },
  {
   "cell_type": "code",
   "execution_count": 25,
   "metadata": {},
   "outputs": [],
   "source": [
    "ensemble_2 = VotingClassifier([('CART', cart), ('LR', lr), ('RF', rf)])\n",
    "\n",
    "ensemble_2.fit(X_train, y_train)\n",
    "predictions_2 = ensemble_2.predict(X_test)\n",
    "\n",
    "accuracy_2 = accuracy_score(y_test, predictions_2)\n",
    "precision_2 = precision_score(y_test, predictions_2, average='macro', zero_division=0)\n",
    "recall_2 = recall_score(y_test, predictions_2, average='macro', zero_division=0)\n",
    "f1_2 = f1_score(y_test, predictions_2, average='macro', zero_division=0)"
   ]
  },
  {
   "cell_type": "code",
   "execution_count": 26,
   "metadata": {},
   "outputs": [
    {
     "name": "stdout",
     "output_type": "stream",
     "text": [
      "Ensemble 2: Accuracy = 1.00, Precision = 1.00, Recall = 1.00, F1 = 1.00\n"
     ]
    }
   ],
   "source": [
    "print(f'Ensemble 2: Accuracy = {accuracy_2:.2f}, Precision = {precision_2:.2f}, Recall = {recall_2:.2f}, F1 = {f1_2:.2f}')"
   ]
  },
  {
   "cell_type": "code",
   "execution_count": 27,
   "metadata": {},
   "outputs": [
    {
     "name": "stderr",
     "output_type": "stream",
     "text": [
      "c:\\ProgramData\\Anaconda3\\lib\\site-packages\\sklearn\\neighbors\\_classification.py:228: FutureWarning: Unlike other reduction functions (e.g. `skew`, `kurtosis`), the default behavior of `mode` typically preserves the axis it acts along. In SciPy 1.11.0, this behavior will change: the default value of `keepdims` will become False, the `axis` over which the statistic is taken will be eliminated, and the value None will no longer be accepted. Set `keepdims` to True or False to avoid this warning.\n",
      "  mode, _ = stats.mode(_y[neigh_ind, k], axis=1)\n"
     ]
    }
   ],
   "source": [
    "ensemble_3 = VotingClassifier([('CART', cart), ('LR', lr), ('KNN', knn)])\n",
    "\n",
    "ensemble_3.fit(X_train, y_train)\n",
    "predictios_3 = ensemble_3.predict(X_test)\n",
    "\n",
    "accuracy_3 = accuracy_score(y_test, predictios_3)\n",
    "precision_3 = precision_score(y_test, predictios_3, average='macro', zero_division=0)\n",
    "recall_3 = recall_score(y_test, predictios_3, average='macro', zero_division=0)\n",
    "f1_3 = f1_score(y_test, predictios_3, average='macro', zero_division=0)"
   ]
  },
  {
   "cell_type": "code",
   "execution_count": 28,
   "metadata": {},
   "outputs": [
    {
     "name": "stdout",
     "output_type": "stream",
     "text": [
      "Ensemble 3: Accuracy = 1.00, Precision = 1.00, Recall = 1.00, F1 = 1.00\n"
     ]
    }
   ],
   "source": [
    "print(f'Ensemble 3: Accuracy = {accuracy_3:.2f}, Precision = {precision_3:.2f}, Recall = {recall_3:.2f}, F1 = {f1_3:.2f}')"
   ]
  },
  {
   "cell_type": "code",
   "execution_count": 29,
   "metadata": {},
   "outputs": [
    {
     "name": "stderr",
     "output_type": "stream",
     "text": [
      "c:\\ProgramData\\Anaconda3\\lib\\site-packages\\sklearn\\neighbors\\_classification.py:228: FutureWarning: Unlike other reduction functions (e.g. `skew`, `kurtosis`), the default behavior of `mode` typically preserves the axis it acts along. In SciPy 1.11.0, this behavior will change: the default value of `keepdims` will become False, the `axis` over which the statistic is taken will be eliminated, and the value None will no longer be accepted. Set `keepdims` to True or False to avoid this warning.\n",
      "  mode, _ = stats.mode(_y[neigh_ind, k], axis=1)\n"
     ]
    }
   ],
   "source": [
    "ensemble_4 = VotingClassifier([('RF', rf), ('LR', lr), ('KNN', knn)])\n",
    "\n",
    "ensemble_4.fit(X_train, y_train)\n",
    "predictios_4 = ensemble_4.predict(X_test)\n",
    "\n",
    "accuracy_4 = accuracy_score(y_test, predictios_4)\n",
    "precision_4 = precision_score(y_test, predictios_4, average='macro', zero_division=0)\n",
    "recall_4 = recall_score(y_test, predictios_4, average='macro', zero_division=0)\n",
    "f1_4 = f1_score(y_test, predictios_4, average='macro', zero_division=0)"
   ]
  },
  {
   "cell_type": "code",
   "execution_count": 30,
   "metadata": {},
   "outputs": [
    {
     "name": "stdout",
     "output_type": "stream",
     "text": [
      "Ensemble 4: Accuracy = 1.00, Precision = 1.00, Recall = 1.00, F1 = 1.00\n"
     ]
    }
   ],
   "source": [
    "print(f'Ensemble 4: Accuracy = {accuracy_4:.2f}, Precision = {precision_4:.2f}, Recall = {recall_4:.2f}, F1 = {f1_4:.2f}')"
   ]
  },
  {
   "cell_type": "code",
   "execution_count": 31,
   "metadata": {},
   "outputs": [
    {
     "name": "stderr",
     "output_type": "stream",
     "text": [
      "c:\\ProgramData\\Anaconda3\\lib\\site-packages\\sklearn\\neighbors\\_classification.py:228: FutureWarning: Unlike other reduction functions (e.g. `skew`, `kurtosis`), the default behavior of `mode` typically preserves the axis it acts along. In SciPy 1.11.0, this behavior will change: the default value of `keepdims` will become False, the `axis` over which the statistic is taken will be eliminated, and the value None will no longer be accepted. Set `keepdims` to True or False to avoid this warning.\n",
      "  mode, _ = stats.mode(_y[neigh_ind, k], axis=1)\n"
     ]
    }
   ],
   "source": [
    "ensemble_5 = VotingClassifier([('RF', rf), ('LR', lr), ('KNN', knn), ('CART', cart)])\n",
    "\n",
    "ensemble_5.fit(X_train, y_train)\n",
    "predictios_5 = ensemble_4.predict(X_test)\n",
    "\n",
    "accuracy_5 = accuracy_score(y_test, predictios_5)\n",
    "precision_5 = precision_score(y_test, predictios_5, average='macro', zero_division=0)\n",
    "recall_5 = recall_score(y_test, predictios_5, average='macro', zero_division=0)\n",
    "f1_5 = f1_score(y_test, predictios_5, average='macro', zero_division=0)"
   ]
  },
  {
   "cell_type": "code",
   "execution_count": 32,
   "metadata": {},
   "outputs": [
    {
     "name": "stdout",
     "output_type": "stream",
     "text": [
      "Ensemble 5: Accuracy = 1.00, Precision = 1.00, Recall = 1.00, F1 = 1.00\n"
     ]
    }
   ],
   "source": [
    "print(f'Ensemble 5: Accuracy = {accuracy_5:.2f}, Precision = {precision_5:.2f}, Recall = {recall_5:.2f}, F1 = {f1_5:.2f}')"
   ]
  },
  {
   "cell_type": "code",
   "execution_count": 33,
   "metadata": {},
   "outputs": [
    {
     "name": "stderr",
     "output_type": "stream",
     "text": [
      "unable to cache publicsuffix.org-tlds.{'urls': ('https://publicsuffix.org/list/public_suffix_list.dat', 'https://raw.githubusercontent.com/publicsuffix/list/master/public_suffix_list.dat'), 'fallback_to_snapshot': True} in c:\\ProgramData\\Anaconda3\\lib\\site-packages\\tldextract\\.suffix_cache/publicsuffix.org-tlds\\de84b5ca2167d4c83e38fb162f2e8738.tldextract.json. This could refresh the Public Suffix List over HTTP every app startup. Construct your `TLDExtract` with a writable `cache_dir` or set `cache_dir=False` to silence this warning. [WinError 5] 액세스가 거부되었습니다: 'c:\\\\ProgramData\\\\Anaconda3\\\\lib\\\\site-packages\\\\tldextract\\\\.suffix_cache'\n"
     ]
    }
   ],
   "source": [
    "from urllib.parse import urlparse\n",
    "import tldextract\n",
    "import re\n",
    "\n",
    "url = \"https://hackyboiz.github.io/2022/02/13/l0ch/rdp_fuzzing2/\"\n",
    "parsed_url = urlparse(url)\n",
    "extracted_url = tldextract.extract(url)\n",
    "\n",
    "# 테스트할 URL을 가지고 있는 데이터프레임 생성\n",
    "test_urls = pd.DataFrame({\n",
    "    # 'url': [url],\n",
    "    'f1': [len(url)],\n",
    "    'f2': [len(parsed_url.hostname) if parsed_url.hostname else 0],\n",
    "    'f3': [len(extracted_url.subdomain) if extracted_url.subdomain != None else 0],\n",
    "    'f4': [len(parsed_url.path)],\n",
    "    'f5': [len(parsed_url.query)],\n",
    "    'f6': [len(parsed_url.path.split('/')[1]) if len(parsed_url.path.split('/'))>1 else 0],    \n",
    "    'f7': [len(extracted_url.suffix) if extracted_url.suffix else 0],\n",
    "    \n",
    "    'f8': [url.count('-')],\n",
    "    'f9': [url.count('@')],\n",
    "    'f10': [url.count('?')],\n",
    "    'f11': [url.count('%')],\n",
    "    'f12': [url.count('.')],\n",
    "    'f13': [url.count('//')],\n",
    "    'f14': [url.count('+')],\n",
    "    'f15': [url.count('=')],\n",
    "    'f16': [url.count('&')],\n",
    "    'f17': [url.count('http')],\n",
    "    'f18': [url.count('www')],\n",
    "    'f19': [sum(c.isdigit() for c in url)],\n",
    "    'f20': [sum(c.isalpha() for c in url)],\n",
    "    'f21': [len(parsed_url.path.split('/')) - 1],\n",
    "    \n",
    "    'f22': [1 if any(c in parsed_url.query for c in ['%', '+']) else 0],\n",
    "    'f23': [1 if any(c in parsed_url.query for c in ['#', '&', '?', '$', '=']) else 0],\n",
    "    'f24': [1 if any(c in parsed_url.path for c in ['%', '+']) else 0],\n",
    "    'f25': [1 if any(c in parsed_url.path for c in ['#', '&', '?', '$', '=']) else 0],\n",
    "    'f26': [1 if any(dir_name in parsed_url.path.split('/') for dir_name in ['download', 'install']) else 0],\n",
    "    'f27': [1 if url.count('http') > 1 else 0],\n",
    "    'f28': [1 if extracted_url.suffix not in ['com', 'net', 'org', 'edu'] else 0],\n",
    "    'f29': [1 if parsed_url.scheme == 'https' else 0],\n",
    "    'f30': [1 if any(param in parsed_url.query for param in ['id=', 'token=']) else 0],\n",
    "    'f31': [1 if parsed_url.hostname and any(not c.isalnum() for c in parsed_url.hostname) else 0],\n",
    "    'f32': [1 if re.match(r'\\d+\\.\\d+\\.\\d+\\.\\d+', url) else 0],\n",
    "    'f33': [1 if re.match(r'^https?:\\/\\/(www\\.)?bit\\.ly|tiny\\.cc|tinyurl\\.com|ow\\.ly|is\\.gd|shorte\\.st|tiny\\.ie|tiny\\.pl|tiny\\.re|tiny\\.tl|tiny\\.cc|tiny\\.to|tiny\\.ec|tiny\\.ly|tiny\\.be|tiny\\.cc|tiny\\.mw|tiny\\.gs|tiny\\.me|tiny\\.vg|tiny\\.ly|tiny\\.vg|tiny\\.tf|tiny\\.cx|tiny\\.tf|tiny\\.fr|tiny\\.ly|tiny\\.gl|tiny\\.ma|tiny\\.gy|tiny\\.pe|tiny\\.ec|tiny\\.yt|tiny\\.pl|tiny\\.vip|tiny\\.ie|tiny\\.co|tiny\\.mu|tiny\\.cc|tiny\\.st', url) else 0],\n",
    "    \n",
    "    'f34': [1 if parsed_url.query else 0],\n",
    "    'f35': [1 if extracted_url.subdomain else 0],\n",
    "    'f36': [1 if len(url) > 200 else 0],\n",
    "    'f37': [1 if len(parsed_url.path) > 100 else 0],\n",
    "    'f38': [1 if len(parsed_url.query) > 100 else 0]\n",
    "})"
   ]
  },
  {
   "cell_type": "code",
   "execution_count": 34,
   "metadata": {},
   "outputs": [
    {
     "name": "stderr",
     "output_type": "stream",
     "text": [
      "c:\\ProgramData\\Anaconda3\\lib\\site-packages\\sklearn\\base.py:443: UserWarning: X has feature names, but DecisionTreeClassifier was fitted without feature names\n",
      "  warnings.warn(\n",
      "c:\\ProgramData\\Anaconda3\\lib\\site-packages\\sklearn\\base.py:443: UserWarning: X has feature names, but RandomForestClassifier was fitted without feature names\n",
      "  warnings.warn(\n",
      "c:\\ProgramData\\Anaconda3\\lib\\site-packages\\sklearn\\base.py:443: UserWarning: X has feature names, but KNeighborsClassifier was fitted without feature names\n",
      "  warnings.warn(\n"
     ]
    },
    {
     "name": "stdout",
     "output_type": "stream",
     "text": [
      "['benign']\n"
     ]
    },
    {
     "name": "stderr",
     "output_type": "stream",
     "text": [
      "c:\\ProgramData\\Anaconda3\\lib\\site-packages\\sklearn\\neighbors\\_classification.py:228: FutureWarning: Unlike other reduction functions (e.g. `skew`, `kurtosis`), the default behavior of `mode` typically preserves the axis it acts along. In SciPy 1.11.0, this behavior will change: the default value of `keepdims` will become False, the `axis` over which the statistic is taken will be eliminated, and the value None will no longer be accepted. Set `keepdims` to True or False to avoid this warning.\n",
      "  mode, _ = stats.mode(_y[neigh_ind, k], axis=1)\n"
     ]
    }
   ],
   "source": [
    "print(ensemble_1.predict(test_urls))"
   ]
  }
 ],
 "metadata": {
  "kernelspec": {
   "display_name": "base",
   "language": "python",
   "name": "python3"
  },
  "language_info": {
   "codemirror_mode": {
    "name": "ipython",
    "version": 3
   },
   "file_extension": ".py",
   "mimetype": "text/x-python",
   "name": "python",
   "nbconvert_exporter": "python",
   "pygments_lexer": "ipython3",
   "version": "3.9.13"
  },
  "orig_nbformat": 4,
  "vscode": {
   "interpreter": {
    "hash": "ad2bdc8ecc057115af97d19610ffacc2b4e99fae6737bb82f5d7fb13d2f2c186"
   }
  }
 },
 "nbformat": 4,
 "nbformat_minor": 2
}
